{
 "cells": [
  {
   "cell_type": "markdown",
   "id": "a0daf765",
   "metadata": {},
   "source": [
    "# Example - how to use healmatcher"
   ]
  },
  {
   "cell_type": "code",
   "execution_count": 5,
   "id": "8a4a8ab0",
   "metadata": {},
   "outputs": [
    {
     "name": "stdout",
     "output_type": "stream",
     "text": [
      "Requirement already satisfied: wheel in /Users/kwanbo/anaconda3/lib/python3.11/site-packages (0.38.4)\n"
     ]
    }
   ],
   "source": [
    "# Load package\n",
    "from hm import hm\n",
    "\n",
    "# create example dataset\n",
    "testa = pd.DataFrame({\n",
    "    'sex':[1,2,1,2,1,2,1,2,1,2],\n",
    "    'dob':['2012-1-1','2011-12-1','1999-1-1','1998-11-1','2012-11-1','1984-1-1','1982-1-1','1975-1-1','1967-1-1','1954-1-1'],\n",
    "    'ssn':[1111,2222,3333,4444,5555,6666,7777,8888,9999,1010],\n",
    "    'ln':[\"as\",'ss','zz','rr','ww','wa','tr','tt','hh','gq'],\n",
    "    'PROVIDER_NUMBER':[2,1,1,1,1,1,1,1,2,1]\n",
    "})\n",
    "testb = pd.DataFrame({\n",
    "    'sex':[2,2,1,1,1,2,1,2,1,1],\n",
    "    'dob':['2012-1-1','2001-12-1','1999-1-1','1998-11-1','2012-11-1','1984-1-1','1982-1-1','1975-1-1','1967-1-1','1954-1-1'],\n",
    "    'ssn':[1111,2222,3333,4444,5555,6666,7777,8888,9999,1010],\n",
    "    'ln':[\"as\",'ls','zz','rr','wb','wa','tr','tt','ha','gq'],\n",
    "    'PROVID\n",
    "\n",
    "# Run matching\n",
    "hm(\n",
    "    df_a = testa,\n",
    "    df_b = testb,\n",
    "    col_a=['sex','dob','ssn','ln'],\n",
    "    col_b=['sex','dob','ssn','ln'],\n",
    "    match_prob_threshold = 0.001,\n",
    "    iteration = 20,\n",
    "    model2 = True,\n",
    "    blocking_rule_for_input = 'PROVIDER_NUMBER',\n",
    "    onetoone = True,\n",
    "    match_summary = True\n",
    ")\n"
   ]
  },
  {
   "cell_type": "code",
   "execution_count": 6,
   "id": "183e4fc0",
   "metadata": {},
   "outputs": [],
   "source": []
  },
  {
   "cell_type": "code",
   "execution_count": null,
   "id": "9de2c6d2",
   "metadata": {},
   "outputs": [],
   "source": []
  }
 ],
 "metadata": {
  "interpreter": {
   "hash": "5d0983774057a3b7921fd1d0f4b7590351d876da733e3a719123c4772f71548a"
  },
  "kernelspec": {
   "display_name": "Python 3.11.5 64-bit ('base': conda)",
   "language": "python",
   "name": "python3"
  },
  "language_info": {
   "codemirror_mode": {
    "name": "ipython",
    "version": 3
   },
   "file_extension": ".py",
   "mimetype": "text/x-python",
   "name": "python",
   "nbconvert_exporter": "python",
   "pygments_lexer": "ipython3",
   "version": "3.11.5"
  }
 },
 "nbformat": 4,
 "nbformat_minor": 5
}
