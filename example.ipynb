{
 "cells": [
  {
   "cell_type": "markdown",
   "id": "a0daf765",
   "metadata": {},
   "source": [
    "# Example - how to use healmatcher"
   ]
  },
  {
   "cell_type": "code",
   "execution_count": 3,
   "id": "71f1f6a5",
   "metadata": {},
   "outputs": [
    {
     "name": "stdout",
     "output_type": "stream",
     "text": [
      "Collecting healmatcher\n",
      "  Obtaining dependency information for healmatcher from https://files.pythonhosted.org/packages/80/7b/08341d7f148044214ef72f74a58bfa039dbe59b4c36ab874de5ed713c523/healmatcher-0.0.7-py3-none-any.whl.metadata\n",
      "  Downloading healmatcher-0.0.7-py3-none-any.whl.metadata (2.6 kB)\n",
      "Collecting splink (from healmatcher)\n",
      "  Obtaining dependency information for splink from https://files.pythonhosted.org/packages/27/a6/36cd5920fba6b7327ef267f037c31bc5cbad43b6c72c6e889c652d382002/splink-3.9.14-py3-none-any.whl.metadata\n",
      "  Downloading splink-3.9.14-py3-none-any.whl.metadata (12 kB)\n",
      "Requirement already satisfied: pandas in /Users/kwanbo/anaconda3/lib/python3.11/site-packages (from healmatcher) (2.0.3)\n",
      "Requirement already satisfied: numpy in /Users/kwanbo/anaconda3/lib/python3.11/site-packages (from healmatcher) (1.23.5)\n",
      "Requirement already satisfied: python-dateutil>=2.8.2 in /Users/kwanbo/anaconda3/lib/python3.11/site-packages (from pandas->healmatcher) (2.8.2)\n",
      "Requirement already satisfied: pytz>=2020.1 in /Users/kwanbo/anaconda3/lib/python3.11/site-packages (from pandas->healmatcher) (2023.3.post1)\n",
      "Requirement already satisfied: tzdata>=2022.1 in /Users/kwanbo/anaconda3/lib/python3.11/site-packages (from pandas->healmatcher) (2023.3)\n",
      "Requirement already satisfied: Jinja2>=3.0.3 in /Users/kwanbo/anaconda3/lib/python3.11/site-packages (from splink->healmatcher) (3.1.2)\n",
      "Collecting altair>=5.0.1 (from splink->healmatcher)\n",
      "  Obtaining dependency information for altair>=5.0.1 from https://files.pythonhosted.org/packages/46/30/2118537233fa72c1d91a81f5908a7e843a6601ccc68b76838ebc4951505f/altair-5.3.0-py3-none-any.whl.metadata\n",
      "  Downloading altair-5.3.0-py3-none-any.whl.metadata (9.2 kB)\n",
      "Collecting duckdb>=0.8.0 (from splink->healmatcher)\n",
      "  Obtaining dependency information for duckdb>=0.8.0 from https://files.pythonhosted.org/packages/dd/68/33a74c330474d6e8b1def3883bea92db00d28ba39d27d19e8a7d57e3b8ae/duckdb-0.10.2-cp311-cp311-macosx_11_0_arm64.whl.metadata\n",
      "  Downloading duckdb-0.10.2-cp311-cp311-macosx_11_0_arm64.whl.metadata (763 bytes)\n",
      "Collecting igraph>=0.11.2 (from splink->healmatcher)\n",
      "  Obtaining dependency information for igraph>=0.11.2 from https://files.pythonhosted.org/packages/d2/19/0c6ba820b14142ce122b26725d18cea5248abb77fad8a264fa2236403a0a/igraph-0.11.5-cp39-abi3-macosx_11_0_arm64.whl.metadata\n",
      "  Downloading igraph-0.11.5-cp39-abi3-macosx_11_0_arm64.whl.metadata (3.9 kB)\n",
      "Requirement already satisfied: jsonschema>=3.2 in /Users/kwanbo/anaconda3/lib/python3.11/site-packages (from splink->healmatcher) (4.17.3)\n",
      "Collecting phonetics>=1.0.5 (from splink->healmatcher)\n",
      "  Downloading phonetics-1.0.5.tar.gz (8.8 kB)\n",
      "  Preparing metadata (setup.py) ... \u001b[?25ldone\n",
      "\u001b[?25hCollecting sqlglot>=13.0.0 (from splink->healmatcher)\n",
      "  Obtaining dependency information for sqlglot>=13.0.0 from https://files.pythonhosted.org/packages/46/04/9d8ae212b2fe75e0b83013f59f0433a27d3820cba5dbec4ec82bb065d72a/sqlglot-23.15.8-py3-none-any.whl.metadata\n",
      "  Downloading sqlglot-23.15.8-py3-none-any.whl.metadata (19 kB)\n",
      "Requirement already satisfied: packaging in /Users/kwanbo/anaconda3/lib/python3.11/site-packages (from altair>=5.0.1->splink->healmatcher) (23.1)\n",
      "Requirement already satisfied: toolz in /Users/kwanbo/anaconda3/lib/python3.11/site-packages (from altair>=5.0.1->splink->healmatcher) (0.12.0)\n",
      "Collecting texttable>=1.6.2 (from igraph>=0.11.2->splink->healmatcher)\n",
      "  Obtaining dependency information for texttable>=1.6.2 from https://files.pythonhosted.org/packages/24/99/4772b8e00a136f3e01236de33b0efda31ee7077203ba5967fcc76da94d65/texttable-1.7.0-py2.py3-none-any.whl.metadata\n",
      "  Downloading texttable-1.7.0-py2.py3-none-any.whl.metadata (9.8 kB)\n",
      "Requirement already satisfied: MarkupSafe>=2.0 in /Users/kwanbo/anaconda3/lib/python3.11/site-packages (from Jinja2>=3.0.3->splink->healmatcher) (2.1.1)\n",
      "Requirement already satisfied: attrs>=17.4.0 in /Users/kwanbo/anaconda3/lib/python3.11/site-packages (from jsonschema>=3.2->splink->healmatcher) (23.2.0)\n",
      "Requirement already satisfied: pyrsistent!=0.17.0,!=0.17.1,!=0.17.2,>=0.14.0 in /Users/kwanbo/anaconda3/lib/python3.11/site-packages (from jsonschema>=3.2->splink->healmatcher) (0.18.0)\n",
      "Requirement already satisfied: six>=1.5 in /Users/kwanbo/anaconda3/lib/python3.11/site-packages (from python-dateutil>=2.8.2->pandas->healmatcher) (1.16.0)\n",
      "Downloading healmatcher-0.0.7-py3-none-any.whl (2.1 kB)\n",
      "Downloading splink-3.9.14-py3-none-any.whl (3.7 MB)\n",
      "\u001b[2K   \u001b[90m━━━━━━━━━━━━━━━━━━━━━━━━━━━━━━━━━━━━━━━━\u001b[0m \u001b[32m3.7/3.7 MB\u001b[0m \u001b[31m15.8 MB/s\u001b[0m eta \u001b[36m0:00:00\u001b[0m\n",
      "\u001b[?25hDownloading altair-5.3.0-py3-none-any.whl (857 kB)\n",
      "\u001b[2K   \u001b[90m━━━━━━━━━━━━━━━━━━━━━━━━━━━━━━━━━━━━━━━━\u001b[0m \u001b[32m857.8/857.8 kB\u001b[0m \u001b[31m21.3 MB/s\u001b[0m eta \u001b[36m0:00:00\u001b[0m\n",
      "\u001b[?25hDownloading duckdb-0.10.2-cp311-cp311-macosx_11_0_arm64.whl (14.4 MB)\n",
      "\u001b[2K   \u001b[90m━━━━━━━━━━━━━━━━━━━━━━━━━━━━━━━━━━━━━━━━\u001b[0m \u001b[32m14.4/14.4 MB\u001b[0m \u001b[31m17.9 MB/s\u001b[0m eta \u001b[36m0:00:00\u001b[0m\n",
      "\u001b[?25hDownloading igraph-0.11.5-cp39-abi3-macosx_11_0_arm64.whl (1.7 MB)\n",
      "\u001b[2K   \u001b[90m━━━━━━━━━━━━━━━━━━━━━━━━━━━━━━━━━━━━━━━━\u001b[0m \u001b[32m1.7/1.7 MB\u001b[0m \u001b[31m17.5 MB/s\u001b[0m eta \u001b[36m0:00:00\u001b[0m\n",
      "\u001b[?25hDownloading sqlglot-23.15.8-py3-none-any.whl (394 kB)\n",
      "\u001b[2K   \u001b[90m━━━━━━━━━━━━━━━━━━━━━━━━━━━━━━━━━━━━━━━━\u001b[0m \u001b[32m394.1/394.1 kB\u001b[0m \u001b[31m15.5 MB/s\u001b[0m eta \u001b[36m0:00:00\u001b[0m\n",
      "\u001b[?25hDownloading texttable-1.7.0-py2.py3-none-any.whl (10 kB)\n",
      "Building wheels for collected packages: phonetics\n",
      "  Building wheel for phonetics (setup.py) ... \u001b[?25ldone\n",
      "\u001b[?25h  Created wheel for phonetics: filename=phonetics-1.0.5-py2.py3-none-any.whl size=8697 sha256=33f4a65cec8adf0f7cebdecdb38318793d9d5881f43b21b97ecc8e8e4b407fe4\n",
      "  Stored in directory: /Users/kwanbo/Library/Caches/pip/wheels/40/63/73/d2c3bed2dc6df7c34ec9e1402761bed3519a4c0d152858b190\n",
      "Successfully built phonetics\n",
      "Installing collected packages: texttable, phonetics, sqlglot, igraph, duckdb, altair, splink, healmatcher\n",
      "Successfully installed altair-5.3.0 duckdb-0.10.2 healmatcher-0.0.7 igraph-0.11.5 phonetics-1.0.5 splink-3.9.14 sqlglot-23.15.8 texttable-1.7.0\n",
      "Note: you may need to restart the kernel to use updated packages.\n"
     ]
    }
   ],
   "source": [
    "pip install healmatcher"
   ]
  },
  {
   "cell_type": "code",
   "execution_count": 6,
   "id": "8a4a8ab0",
   "metadata": {},
   "outputs": [
    {
     "ename": "ImportError",
     "evalue": "cannot import name 'blocking_rule' from partially initialized module 'blocking_rule' (most likely due to a circular import) (/Users/kwanbo/Downloads/Github/healmatcher/blocking_rule.py)",
     "output_type": "error",
     "traceback": [
      "\u001b[0;31m---------------------------------------------------------------------------\u001b[0m",
      "\u001b[0;31mImportError\u001b[0m                               Traceback (most recent call last)",
      "Cell \u001b[0;32mIn[6], line 2\u001b[0m\n\u001b[1;32m      1\u001b[0m \u001b[38;5;66;03m# Load package\u001b[39;00m\n\u001b[0;32m----> 2\u001b[0m \u001b[38;5;28;01mfrom\u001b[39;00m \u001b[38;5;21;01mhealmatcher\u001b[39;00m \u001b[38;5;28;01mimport\u001b[39;00m hm\n\u001b[1;32m      4\u001b[0m \u001b[38;5;66;03m# create example dataset\u001b[39;00m\n\u001b[1;32m      5\u001b[0m testa \u001b[38;5;241m=\u001b[39m pd\u001b[38;5;241m.\u001b[39mDataFrame({\n\u001b[1;32m      6\u001b[0m     \u001b[38;5;124m'\u001b[39m\u001b[38;5;124msex\u001b[39m\u001b[38;5;124m'\u001b[39m:[\u001b[38;5;241m1\u001b[39m,\u001b[38;5;241m2\u001b[39m,\u001b[38;5;241m1\u001b[39m,\u001b[38;5;241m2\u001b[39m,\u001b[38;5;241m1\u001b[39m,\u001b[38;5;241m2\u001b[39m,\u001b[38;5;241m1\u001b[39m,\u001b[38;5;241m2\u001b[39m,\u001b[38;5;241m1\u001b[39m,\u001b[38;5;241m2\u001b[39m],\n\u001b[1;32m      7\u001b[0m     \u001b[38;5;124m'\u001b[39m\u001b[38;5;124mdob\u001b[39m\u001b[38;5;124m'\u001b[39m:[\u001b[38;5;124m'\u001b[39m\u001b[38;5;124m2012-1-1\u001b[39m\u001b[38;5;124m'\u001b[39m,\u001b[38;5;124m'\u001b[39m\u001b[38;5;124m2011-12-1\u001b[39m\u001b[38;5;124m'\u001b[39m,\u001b[38;5;124m'\u001b[39m\u001b[38;5;124m1999-1-1\u001b[39m\u001b[38;5;124m'\u001b[39m,\u001b[38;5;124m'\u001b[39m\u001b[38;5;124m1998-11-1\u001b[39m\u001b[38;5;124m'\u001b[39m,\u001b[38;5;124m'\u001b[39m\u001b[38;5;124m2012-11-1\u001b[39m\u001b[38;5;124m'\u001b[39m,\u001b[38;5;124m'\u001b[39m\u001b[38;5;124m1984-1-1\u001b[39m\u001b[38;5;124m'\u001b[39m,\u001b[38;5;124m'\u001b[39m\u001b[38;5;124m1982-1-1\u001b[39m\u001b[38;5;124m'\u001b[39m,\u001b[38;5;124m'\u001b[39m\u001b[38;5;124m1975-1-1\u001b[39m\u001b[38;5;124m'\u001b[39m,\u001b[38;5;124m'\u001b[39m\u001b[38;5;124m1967-1-1\u001b[39m\u001b[38;5;124m'\u001b[39m,\u001b[38;5;124m'\u001b[39m\u001b[38;5;124m1954-1-1\u001b[39m\u001b[38;5;124m'\u001b[39m],\n\u001b[0;32m   (...)\u001b[0m\n\u001b[1;32m     10\u001b[0m     \u001b[38;5;124m'\u001b[39m\u001b[38;5;124mPROVIDER_NUMBER\u001b[39m\u001b[38;5;124m'\u001b[39m:[\u001b[38;5;241m2\u001b[39m,\u001b[38;5;241m1\u001b[39m,\u001b[38;5;241m1\u001b[39m,\u001b[38;5;241m1\u001b[39m,\u001b[38;5;241m1\u001b[39m,\u001b[38;5;241m1\u001b[39m,\u001b[38;5;241m1\u001b[39m,\u001b[38;5;241m1\u001b[39m,\u001b[38;5;241m2\u001b[39m,\u001b[38;5;241m1\u001b[39m]\n\u001b[1;32m     11\u001b[0m })\n",
      "File \u001b[0;32m~/Downloads/Github/healmatcher/healmatcher.py:17\u001b[0m\n\u001b[1;32m     15\u001b[0m \u001b[38;5;28;01mimport\u001b[39;00m \u001b[38;5;21;01msplink\u001b[39;00m\u001b[38;5;21;01m.\u001b[39;00m\u001b[38;5;21;01mduckdb\u001b[39;00m\u001b[38;5;21;01m.\u001b[39;00m\u001b[38;5;21;01mcomparison_template_library\u001b[39;00m \u001b[38;5;28;01mas\u001b[39;00m \u001b[38;5;21;01mctl\u001b[39;00m\n\u001b[1;32m     16\u001b[0m \u001b[38;5;28;01mfrom\u001b[39;00m \u001b[38;5;21;01mIPython\u001b[39;00m\u001b[38;5;21;01m.\u001b[39;00m\u001b[38;5;21;01mdisplay\u001b[39;00m \u001b[38;5;28;01mimport\u001b[39;00m display\n\u001b[0;32m---> 17\u001b[0m \u001b[38;5;28;01mfrom\u001b[39;00m \u001b[38;5;21;01mblocking_rule\u001b[39;00m \u001b[38;5;28;01mimport\u001b[39;00m (blocking_rule, testa, testb)\n\u001b[1;32m     20\u001b[0m \u001b[38;5;28;01mdef\u001b[39;00m \u001b[38;5;21mhm\u001b[39m(df_a, \n\u001b[1;32m     21\u001b[0m        df_b, \n\u001b[1;32m     22\u001b[0m        col_a\u001b[38;5;241m=\u001b[39m\u001b[38;5;28;01mNone\u001b[39;00m, \n\u001b[0;32m   (...)\u001b[0m\n\u001b[1;32m     34\u001b[0m       data_name \u001b[38;5;241m=\u001b[39m [\u001b[38;5;124m'\u001b[39m\u001b[38;5;124mdfa\u001b[39m\u001b[38;5;124m'\u001b[39m,\u001b[38;5;124m'\u001b[39m\u001b[38;5;124mdfb\u001b[39m\u001b[38;5;124m'\u001b[39m]\n\u001b[1;32m     35\u001b[0m       ):\n\u001b[1;32m     36\u001b[0m     \u001b[38;5;28;01mif\u001b[39;00m df_a\u001b[38;5;241m.\u001b[39mempty :\n",
      "File \u001b[0;32m~/Downloads/Github/healmatcher/blocking_rule.py:4\u001b[0m\n\u001b[1;32m      2\u001b[0m \u001b[38;5;28;01mimport\u001b[39;00m \u001b[38;5;21;01mpandas\u001b[39;00m \u001b[38;5;28;01mas\u001b[39;00m \u001b[38;5;21;01mpd\u001b[39;00m\n\u001b[1;32m      3\u001b[0m \u001b[38;5;28;01mimport\u001b[39;00m \u001b[38;5;21;01mnumpy\u001b[39;00m \u001b[38;5;28;01mas\u001b[39;00m \u001b[38;5;21;01mnp\u001b[39;00m\n\u001b[0;32m----> 4\u001b[0m \u001b[38;5;28;01mfrom\u001b[39;00m \u001b[38;5;21;01mhm\u001b[39;00m \u001b[38;5;28;01mimport\u001b[39;00m (testa, testb, hm, healmatcher)\n\u001b[1;32m      6\u001b[0m blocking_rule_prov \u001b[38;5;241m=\u001b[39m [\n\u001b[1;32m      7\u001b[0m     \u001b[38;5;124m\"\u001b[39m\u001b[38;5;124ml.DOB = r.DOB and l.PROVIDER_NUMBER=r.PROVIDER_NUMBER and l.ln=r.ln and l.sex=r.sex and l.ssn=r.ssn\u001b[39m\u001b[38;5;124m\"\u001b[39m,\n\u001b[1;32m      8\u001b[0m     \u001b[38;5;124m\"\u001b[39m\u001b[38;5;124ml.DOB = r.DOB and l.PROVIDER_NUMBER=r.PROVIDER_NUMBER and l.ln=r.ln and l.ssn=r.ssn\u001b[39m\u001b[38;5;124m\"\u001b[39m,\n\u001b[0;32m   (...)\u001b[0m\n\u001b[1;32m     24\u001b[0m     \u001b[38;5;124m\"\u001b[39m\u001b[38;5;124ml.DOB = r.DOB\u001b[39m\u001b[38;5;124m\"\u001b[39m\n\u001b[1;32m     25\u001b[0m ]\n\u001b[1;32m     28\u001b[0m testa \u001b[38;5;241m=\u001b[39m pd\u001b[38;5;241m.\u001b[39mDataFrame({\n\u001b[1;32m     29\u001b[0m     \u001b[38;5;124m'\u001b[39m\u001b[38;5;124msex\u001b[39m\u001b[38;5;124m'\u001b[39m:[\u001b[38;5;241m1\u001b[39m,\u001b[38;5;241m2\u001b[39m,\u001b[38;5;241m1\u001b[39m,\u001b[38;5;241m2\u001b[39m,\u001b[38;5;241m1\u001b[39m,\u001b[38;5;241m2\u001b[39m,\u001b[38;5;241m1\u001b[39m,\u001b[38;5;241m2\u001b[39m,\u001b[38;5;241m1\u001b[39m,\u001b[38;5;241m2\u001b[39m],\n\u001b[1;32m     30\u001b[0m     \u001b[38;5;124m'\u001b[39m\u001b[38;5;124mdob\u001b[39m\u001b[38;5;124m'\u001b[39m:[\u001b[38;5;124m'\u001b[39m\u001b[38;5;124m2012-1-1\u001b[39m\u001b[38;5;124m'\u001b[39m,\u001b[38;5;124m'\u001b[39m\u001b[38;5;124m2011-12-1\u001b[39m\u001b[38;5;124m'\u001b[39m,\u001b[38;5;124m'\u001b[39m\u001b[38;5;124m1999-1-1\u001b[39m\u001b[38;5;124m'\u001b[39m,\u001b[38;5;124m'\u001b[39m\u001b[38;5;124m1998-11-1\u001b[39m\u001b[38;5;124m'\u001b[39m,\u001b[38;5;124m'\u001b[39m\u001b[38;5;124m2012-11-1\u001b[39m\u001b[38;5;124m'\u001b[39m,\u001b[38;5;124m'\u001b[39m\u001b[38;5;124m1984-1-1\u001b[39m\u001b[38;5;124m'\u001b[39m,\u001b[38;5;124m'\u001b[39m\u001b[38;5;124m1982-1-1\u001b[39m\u001b[38;5;124m'\u001b[39m,\u001b[38;5;124m'\u001b[39m\u001b[38;5;124m1975-1-1\u001b[39m\u001b[38;5;124m'\u001b[39m,\u001b[38;5;124m'\u001b[39m\u001b[38;5;124m1967-1-1\u001b[39m\u001b[38;5;124m'\u001b[39m,\u001b[38;5;124m'\u001b[39m\u001b[38;5;124m1954-1-1\u001b[39m\u001b[38;5;124m'\u001b[39m],\n\u001b[0;32m   (...)\u001b[0m\n\u001b[1;32m     33\u001b[0m     \u001b[38;5;124m'\u001b[39m\u001b[38;5;124mPROVIDER_NUMBER\u001b[39m\u001b[38;5;124m'\u001b[39m:[\u001b[38;5;241m2\u001b[39m,\u001b[38;5;241m1\u001b[39m,\u001b[38;5;241m1\u001b[39m,\u001b[38;5;241m1\u001b[39m,\u001b[38;5;241m1\u001b[39m,\u001b[38;5;241m1\u001b[39m,\u001b[38;5;241m1\u001b[39m,\u001b[38;5;241m1\u001b[39m,\u001b[38;5;241m2\u001b[39m,\u001b[38;5;241m1\u001b[39m]\n\u001b[1;32m     34\u001b[0m })\n",
      "File \u001b[0;32m~/Downloads/Github/healmatcher/hm.py:17\u001b[0m\n\u001b[1;32m     15\u001b[0m \u001b[38;5;28;01mimport\u001b[39;00m \u001b[38;5;21;01msplink\u001b[39;00m\u001b[38;5;21;01m.\u001b[39;00m\u001b[38;5;21;01mduckdb\u001b[39;00m\u001b[38;5;21;01m.\u001b[39;00m\u001b[38;5;21;01mcomparison_template_library\u001b[39;00m \u001b[38;5;28;01mas\u001b[39;00m \u001b[38;5;21;01mctl\u001b[39;00m\n\u001b[1;32m     16\u001b[0m \u001b[38;5;28;01mfrom\u001b[39;00m \u001b[38;5;21;01mIPython\u001b[39;00m\u001b[38;5;21;01m.\u001b[39;00m\u001b[38;5;21;01mdisplay\u001b[39;00m \u001b[38;5;28;01mimport\u001b[39;00m display\n\u001b[0;32m---> 17\u001b[0m \u001b[38;5;28;01mfrom\u001b[39;00m \u001b[38;5;21;01mblocking_rule\u001b[39;00m \u001b[38;5;28;01mimport\u001b[39;00m (blocking_rule, testa, testb)\n\u001b[1;32m     20\u001b[0m \u001b[38;5;28;01mdef\u001b[39;00m \u001b[38;5;21mhm\u001b[39m(df_a, \n\u001b[1;32m     21\u001b[0m        df_b, \n\u001b[1;32m     22\u001b[0m        col_a\u001b[38;5;241m=\u001b[39m\u001b[38;5;28;01mNone\u001b[39;00m, \n\u001b[0;32m   (...)\u001b[0m\n\u001b[1;32m     34\u001b[0m       data_name \u001b[38;5;241m=\u001b[39m [\u001b[38;5;124m'\u001b[39m\u001b[38;5;124mdfa\u001b[39m\u001b[38;5;124m'\u001b[39m,\u001b[38;5;124m'\u001b[39m\u001b[38;5;124mdfb\u001b[39m\u001b[38;5;124m'\u001b[39m]\n\u001b[1;32m     35\u001b[0m       ):\n\u001b[1;32m     36\u001b[0m     \u001b[38;5;28;01mif\u001b[39;00m df_a\u001b[38;5;241m.\u001b[39mempty :\n",
      "\u001b[0;31mImportError\u001b[0m: cannot import name 'blocking_rule' from partially initialized module 'blocking_rule' (most likely due to a circular import) (/Users/kwanbo/Downloads/Github/healmatcher/blocking_rule.py)"
     ]
    }
   ],
   "source": [
    "# Load package\n",
    "from healmatcher import hm\n",
    "\n",
    "# create example dataset\n",
    "testa = pd.DataFrame({\n",
    "    'sex':[1,2,1,2,1,2,1,2,1,2],\n",
    "    'dob':['2012-1-1','2011-12-1','1999-1-1','1998-11-1','2012-11-1','1984-1-1','1982-1-1','1975-1-1','1967-1-1','1954-1-1'],\n",
    "    'ssn':[1111,2222,3333,4444,5555,6666,7777,8888,9999,1010],\n",
    "    'ln':[\"as\",'ss','zz','rr','ww','wa','tr','tt','hh','gq'],\n",
    "    'PROVIDER_NUMBER':[2,1,1,1,1,1,1,1,2,1]\n",
    "})\n",
    "testb = pd.DataFrame({\n",
    "    'sex':[2,2,1,1,1,2,1,2,1,1],\n",
    "    'dob':['2012-1-1','2001-12-1','1999-1-1','1998-11-1','2012-11-1','1984-1-1','1982-1-1','1975-1-1','1967-1-1','1954-1-1'],\n",
    "    'ssn':[1111,2222,3333,4444,5555,6666,7777,8888,9999,1010],\n",
    "    'ln':[\"as\",'ls','zz','rr','wb','wa','tr','tt','ha','gq'],\n",
    "    'PROVIDER_NUMBER':[2,1,1,1,1,1,1,1,2,1]\n",
    "})\n",
    "\n",
    "# Run matching\n",
    "hm(\n",
    "    df_a = testa,\n",
    "    df_b = testb,\n",
    "    col_a=['sex','dob','ssn','ln'],\n",
    "    col_b=['sex','dob','ssn','ln'],\n",
    "    match_prob_threshold = 0.001,\n",
    "    iteration = 20,\n",
    "    model2 = True,\n",
    "    blocking_rule_for_input = 'PROVIDER_NUMBER',\n",
    "    onetoone = True,\n",
    "    match_summary = True\n",
    ")\n"
   ]
  },
  {
   "cell_type": "code",
   "execution_count": 6,
   "id": "183e4fc0",
   "metadata": {},
   "outputs": [],
   "source": []
  },
  {
   "cell_type": "code",
   "execution_count": null,
   "id": "9de2c6d2",
   "metadata": {},
   "outputs": [],
   "source": []
  }
 ],
 "metadata": {
  "interpreter": {
   "hash": "5d0983774057a3b7921fd1d0f4b7590351d876da733e3a719123c4772f71548a"
  },
  "kernelspec": {
   "display_name": "Python 3.11.5 64-bit ('base': conda)",
   "language": "python",
   "name": "python3"
  },
  "language_info": {
   "codemirror_mode": {
    "name": "ipython",
    "version": 3
   },
   "file_extension": ".py",
   "mimetype": "text/x-python",
   "name": "python",
   "nbconvert_exporter": "python",
   "pygments_lexer": "ipython3",
   "version": "3.11.5"
  }
 },
 "nbformat": 4,
 "nbformat_minor": 5
}
