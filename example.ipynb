{
 "cells": [
  {
   "cell_type": "markdown",
   "id": "a0daf765",
   "metadata": {},
   "source": [
    "# Example - how to use healmatcher"
   ]
  },
  {
   "cell_type": "code",
   "execution_count": null,
   "id": "8a4a8ab0",
   "metadata": {},
   "outputs": [],
   "source": [
    "#!pip install twine"
   ]
  },
  {
   "cell_type": "code",
   "execution_count": null,
   "id": "9de2c6d2",
   "metadata": {},
   "outputs": [],
   "source": [
    "pip install healmatcher"
   ]
  }
 ],
 "metadata": {
  "interpreter": {
   "hash": "5d0983774057a3b7921fd1d0f4b7590351d876da733e3a719123c4772f71548a"
  },
  "kernelspec": {
   "display_name": "Python 3.11.5 64-bit ('base': conda)",
   "language": "python",
   "name": "python3"
  },
  "language_info": {
   "codemirror_mode": {
    "name": "ipython",
    "version": 3
   },
   "file_extension": ".py",
   "mimetype": "text/x-python",
   "name": "python",
   "nbconvert_exporter": "python",
   "pygments_lexer": "ipython3",
   "version": "3.11.5"
  }
 },
 "nbformat": 4,
 "nbformat_minor": 5
}
